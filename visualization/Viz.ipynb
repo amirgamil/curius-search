{
 "cells": [
  {
   "cell_type": "code",
   "execution_count": 28,
   "metadata": {},
   "outputs": [],
   "source": [
    "import matplotlib.pyplot as plt\n",
    "import pandas as pd\n",
    "import json\n",
    "from datetime import datetime, timedelta\n",
    "from dateutil.parser import parse\n",
    "from dateutil.relativedelta import relativedelta\n",
    "import pytz\n",
    "from dateutil import tz\n",
    "datetime.now().replace(tzinfo=pytz.utc)\n",
    "tzinfos = {\"UTC\": tz.gettz('UTC')} "
   ]
  },
  {
   "cell_type": "code",
   "execution_count": 23,
   "metadata": {},
   "outputs": [],
   "source": [
    "#to avoid having to deal with a bunch of timezone naive / timezone aware python BS which we don't need\n",
    "def get_min_date(date1, date2):\n",
    "    if (date1.year < date2.year):\n",
    "        return date1\n",
    "    elif (date2.year < date1.year):\n",
    "        return date2\n",
    "    \n",
    "    if (date1.month < date2.month):\n",
    "        return date1\n",
    "    elif (date2.month < date1.month):\n",
    "        return date2\n",
    "    \n",
    "    if (date1.day < date2.day):\n",
    "        return date1\n",
    "    elif (date2.day < date1.day):\n",
    "        return date2\n",
    "    #same date\n",
    "    return date2\n",
    "\n",
    "def get_max_date(date1, date2):\n",
    "    if (date1.year > date2.year):\n",
    "        return date1\n",
    "    elif (date2.year > date1.year):\n",
    "        return date2\n",
    "    \n",
    "    if (date1.month > date2.month):\n",
    "        return date1\n",
    "    elif (date2.month > date1.month):\n",
    "        return date2\n",
    "    \n",
    "    if (date1.day > date2.day):\n",
    "        return date1\n",
    "    elif (date2.day > date1.day):\n",
    "        return date2\n",
    "    #same date\n",
    "    return date2\n",
    "\n",
    "def daterange(start_date, end_date):\n",
    "    for n in range(int ((end_date - start_date).days)):\n",
    "        yield start_date + timedelta(n)\n",
    "\n",
    "def get_total_words(data):\n",
    "    word_count = 0\n",
    "    for key, value in data.items():\n",
    "        word_count += len(value[\"content\"])\n",
    "    return word_count, len(data)\n",
    "\n",
    "def get_num_each_day_between_dates(date1, date2):\n",
    "    num_weekdays_between_min_max_date = [0, 0, 0, 0, 0, 0, 0]\n",
    "    for date in daterange(date1, date2):\n",
    "        num_weekdays_between_min_max_date[date.weekday()] += 1\n",
    "    return num_weekdays_between_min_max_date\n",
    "    \n",
    "\n",
    "#computes total number of words per day and average number of words read per week\n",
    "#average number words = total words on each weekday / number of days of that weekday\n",
    "def get_words_by_day(curius_data, sources_data):\n",
    "    #Mon, Tues, ...., Sunday\n",
    "    total_words_each_day = [0, 0, 0, 0, 0, 0, 0]\n",
    "    avg_words_each_day = [0, 0, 0, 0, 0, 0, 0]\n",
    "    \n",
    "    min_date = datetime.now()\n",
    "    max_date = datetime.now() - relativedelta(years=2)\n",
    "    \n",
    "    for key, value in curius_data.items():\n",
    "        created_date = parse(value[\"createdDate\"], tzinfos=tzinfos)\n",
    "        if (str(key) in sources_data):\n",
    "            min_date = get_min_date(created_date, min_date)\n",
    "            max_date = get_max_date(created_date, max_date)\n",
    "                \n",
    "            total_words_each_day[created_date.weekday()] += len(sources_data[str(key)][\"content\"])\n",
    "    \n",
    "    print(\"min date, max date: \", min_date, max_date)\n",
    "    #compute number of mondays, tuesdays, etc. between min and max date\n",
    "    num_weekdays_between_min_max_date = get_num_each_day_between_dates(min_date, max_date)\n",
    "    for i, toal_days in enumerate(num_weekdays_between_min_max_date):\n",
    "        avg_words_each_day[i] = total_words_each_day[i] / num_weekdays_between_min_max_date[i]\n",
    "    print(\"num weekdays each: \", num_weekdays_between_min_max_date)\n",
    "\n",
    "    return total_words_each_day, avg_words_each_day\n",
    "    "
   ]
  },
  {
   "cell_type": "code",
   "execution_count": 35,
   "metadata": {},
   "outputs": [
    {
     "name": "stdout",
     "output_type": "stream",
     "text": [
      "Total words:  4005985  length:  326\n",
      "Saved in curius:  332\n",
      "min date, max date:  2022-01-18 08:46:34.110000+00:00 2022-04-01 18:33:53.361000+00:00\n",
      "num weekdays each:  [10, 11, 11, 11, 10, 10, 10]\n"
     ]
    },
    {
     "data": {
      "image/png": "[encoded data removed]",
      "text/plain": [
       "<Figure size 720x360 with 1 Axes>"
      ]
     },
     "metadata": {
      "needs_background": "light"
     },
     "output_type": "display_data"
    },
    {
     "data": {
      "image/png": "[encoded data removed]",
      "text/plain": [
       "<Figure size 720x360 with 1 Axes>"
      ]
     },
     "metadata": {
      "needs_background": "light"
     },
     "output_type": "display_data"
    }
   ],
   "source": [
    "total_words = 0\n",
    "#Sunday, Monday, ....\n",
    "\n",
    "tags = {}\n",
    "with open(\"../data/sources.json\") as data_file:\n",
    "    #yes I probably should have saved created date in the source.json but I didn't so\n",
    "    #I have to grab this data from Curius\n",
    "    with open(\"../data/curius.json\") as curius_file:\n",
    "        curius_map = {}\n",
    "        curius_data = json.load(curius_file)\n",
    "        for row in curius_data:\n",
    "            curius_map[row[\"id\"]] = row;\n",
    "        \n",
    "        sources_data = json.load(data_file)\n",
    "        indexed_data = get_total_words(sources_data)\n",
    "        #things we successfully indexed\n",
    "        print(\"Total words: \", indexed_data[0], \" length: \",indexed_data[1])\n",
    "        print(\"Saved in curius: \", len(curius_map))\n",
    "        \n",
    "       \n",
    "        total_words_each_day, avg_words_each_day = get_words_by_day(curius_map, sources_data)\n",
    "        \n",
    "        \n",
    "        \n",
    "        days = [\"Monday\", \"Tuesday\", \"Wednesday\", \"Thursday\", \"Friday\", \"Saturday\", \"Sunday\"]\n",
    "        fig = plt.figure(figsize=(10, 5))\n",
    "        plt.bar(days, total_words_each_day)\n",
    "        plt.xlabel(\"Day of week\")\n",
    "        plt.title(\"Total words read per weekday\")\n",
    "        plt.ylabel(\"Total words read\")\n",
    "        plt.show()\n",
    "        \n",
    "        fig = plt.figure(figsize=(10, 5))\n",
    "        plt.bar(days, avg_words_each_day)\n",
    "        plt.xlabel(\"Day of week\")\n",
    "        plt.title(\"Average words read per weekday\")\n",
    "        plt.ylabel(\"Total words read\")\n",
    "        plt.show()\n",
    "        \n",
    "        "
   ]
  },
  {
   "cell_type": "code",
   "execution_count": null,
   "metadata": {},
   "outputs": [],
   "source": []
  }
 ],
 "metadata": {
  "kernelspec": {
   "display_name": "Python 3 (ipykernel)",
   "language": "python",
   "name": "python3"
  },
  "language_info": {
   "codemirror_mode": {
    "name": "ipython",
    "version": 3
   },
   "file_extension": ".py",
   "mimetype": "text/x-python",
   "name": "python",
   "nbconvert_exporter": "python",
   "pygments_lexer": "ipython3",
   "version": "3.9.10"
  }
 },
 "nbformat": 4,
 "nbformat_minor": 4
}
